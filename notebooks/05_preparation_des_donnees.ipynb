{
 "cells": [
  {
   "cell_type": "markdown",
   "metadata": {},
   "source": [
    "# Initialiser Spark"
   ]
  },
  {
   "cell_type": "code",
   "execution_count": 1,
   "metadata": {},
   "outputs": [
    {
     "name": "stderr",
     "output_type": "stream",
     "text": [
      "WARNING: Using incubator modules: jdk.incubator.vector\n",
      "Using Spark's default log4j profile: org/apache/spark/log4j2-defaults.properties\n",
      "25/10/21 11:09:35 WARN Utils: Your hostname, MacBook-de-Bryan.local, resolves to a loopback address: 127.0.0.1; using 192.0.0.2 instead (on interface en0)\n",
      "25/10/21 11:09:35 WARN Utils: Set SPARK_LOCAL_IP if you need to bind to another address\n",
      "Using Spark's default log4j profile: org/apache/spark/log4j2-defaults.properties\n",
      "Setting default log level to \"WARN\".\n",
      "To adjust logging level use sc.setLogLevel(newLevel). For SparkR, use setLogLevel(newLevel).\n",
      "25/10/21 11:09:35 WARN NativeCodeLoader: Unable to load native-hadoop library for your platform... using builtin-java classes where applicable\n"
     ]
    }
   ],
   "source": [
    "from pyspark import SparkContext, SparkConf\n",
    "conf = SparkConf().setAppName(\"Notebook\").setMaster(\"local\")\n",
    "sc = SparkContext(conf=conf)"
   ]
  },
  {
   "cell_type": "markdown",
   "metadata": {},
   "source": [
    "# Vérifier le contenu du fichier"
   ]
  },
  {
   "cell_type": "code",
   "execution_count": 2,
   "metadata": {},
   "outputs": [
    {
     "name": "stderr",
     "output_type": "stream",
     "text": [
      "                                                                                \r"
     ]
    },
    {
     "data": {
      "text/plain": [
       "['1;FRÉDÉRIC;1948;80;5',\n",
       " '1;ANATOLE;2022;71;3',\n",
       " '2;GWENDOLINE;1979;76;3',\n",
       " '2;CATHY;1987;53;3',\n",
       " '1;MARWAN;2002;78;8',\n",
       " '1;RÉMY;1997;18;8',\n",
       " '1;ANTONIN;1989;75;38',\n",
       " '1;JULES;1923;11;10',\n",
       " '2;NAOMI;2011;22;4',\n",
       " '2;ROSE;1932;32;7']"
      ]
     },
     "execution_count": 2,
     "metadata": {},
     "output_type": "execute_result"
    }
   ],
   "source": [
    "prenoms = sc.textFile(\"../data/prenoms.txt\")\n",
    "prenoms.takeSample(False, 10)"
   ]
  },
  {
   "cell_type": "markdown",
   "metadata": {},
   "source": [
    "# Extraire et sauvegarder un échantillon\n",
    "1. Expliquer ce que fait la ligne suivante"
   ]
  },
  {
   "cell_type": "code",
   "execution_count": 9,
   "metadata": {},
   "outputs": [
    {
     "name": "stderr",
     "output_type": "stream",
     "text": [
      "                                                                                \r"
     ]
    }
   ],
   "source": [
    "prenoms.filter(lambda l: l.startswith(\"sexe\") == False)\\\n",
    "    .filter(lambda l: \"XX\" not in l)\\\n",
    "    .sample(False, .001)\\\n",
    "    .saveAsTextFile(\"../data/prenoms_sample.txt\")"
   ]
  },
  {
   "cell_type": "markdown",
   "metadata": {},
   "source": [
    "Cette ligne filtre les lignes qui commencent par \"sexe\" (elle enlève l'en tête), elle filtre aussi les lignes contenant \"XX\" (lignes avec des données manquantes) puis elle prends un échantillon aléatoire contenant 0.1% des lignes et elle le sauvegarde dans le dossier prenoms_sample.txt."
   ]
  },
  {
   "cell_type": "markdown",
   "metadata": {},
   "source": [
    "# Vérifier l'échantillon"
   ]
  },
  {
   "cell_type": "code",
   "execution_count": 10,
   "metadata": {},
   "outputs": [
    {
     "name": "stdout",
     "output_type": "stream",
     "text": [
      "3928\n",
      "0\n",
      "0\n"
     ]
    }
   ],
   "source": [
    "echantillon = sc.textFile(\"../data/prenoms_sample.txt\")\n",
    "print(echantillon.count())\n",
    "print(echantillon.filter(lambda l: l.startswith(\"sexe\")).count())\n",
    "print(echantillon.filter(lambda l: \"XX\" in l).count())"
   ]
  }
 ],
 "metadata": {
  "kernelspec": {
   "display_name": "sparkenv (3.14.0)",
   "language": "python",
   "name": "python3"
  },
  "language_info": {
   "codemirror_mode": {
    "name": "ipython",
    "version": 3
   },
   "file_extension": ".py",
   "mimetype": "text/x-python",
   "name": "python",
   "nbconvert_exporter": "python",
   "pygments_lexer": "ipython3",
   "version": "3.14.0"
  }
 },
 "nbformat": 4,
 "nbformat_minor": 2
}
